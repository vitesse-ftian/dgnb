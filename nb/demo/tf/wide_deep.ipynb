{
 "cells": [
  {
   "cell_type": "markdown",
   "metadata": {},
   "source": [
    "# Tensorflow Wide and Deep Tutorial\n",
    "This notebook demos how to run tensorflow [wide](https://www.tensorflow.org/tutorials/wide)\n",
    "and [wide and deep](https://www.tensorflow.org/tutorials/wide_and_deep) tutorial "
   ]
  },
  {
   "cell_type": "code",
   "execution_count": 1,
   "metadata": {},
   "outputs": [
    {
     "name": "stdout",
     "output_type": "stream",
     "text": [
      "4\n"
     ]
    }
   ],
   "source": [
    "# As usural, we open a database connection.   \n",
    "import dg.conn\n",
    "import dg.xtable\n",
    "\n",
    "con = dg.conn.Conn(user=\"ftian\")\n",
    "print (con.ver)"
   ]
  },
  {
   "cell_type": "code",
   "execution_count": 4,
   "metadata": {},
   "outputs": [],
   "source": [
    "# Step 1: load data  Only need to run once.\n",
    "from dg.dsutil.csv import CsvXt"
   ]
  },
  {
   "cell_type": "code",
   "execution_count": 3,
   "metadata": {},
   "outputs": [],
   "source": [
    "# Load data.  For all continous feature, we use float.   Categorical, text.\n",
    "train = CsvXt('http://archive.ics.uci.edu/ml/machine-learning-databases/adult/adult.data')\n",
    "train.add_col('age', 'float') \n",
    "train.add_col('workclass', 'text') \n",
    "train.add_col('fnlwgt', 'float')\n",
    "train.add_col('education', 'text')\n",
    "train.add_col('education_num', 'float')\n",
    "train.add_col('marital_status', 'text')\n",
    "train.add_col('occupation', 'text')\n",
    "train.add_col('relationship', 'text')\n",
    "train.add_col('race', 'text')\n",
    "train.add_col('gender', 'text')\n",
    "train.add_col('capital_gain', 'float')\n",
    "train.add_col('capital_loss', 'float')\n",
    "train.add_col('hours_per_week', 'float')\n",
    "train.add_col('native_country', 'text')\n",
    "train.add_col('income', 'text')\n",
    "xtrain = train.xtable(con)\n",
    "# print (xtrain.select(samplerows=10).show())"
   ]
  },
  {
   "cell_type": "code",
   "execution_count": 4,
   "metadata": {},
   "outputs": [],
   "source": [
    "# You only need to run ctas once.\n",
    "xtrain.ctas(\"widedeep_train\")"
   ]
  },
  {
   "cell_type": "code",
   "execution_count": 5,
   "metadata": {},
   "outputs": [],
   "source": [
    "# Load data.  For all continous feature, we use float.   Categorical, text.\n",
    "# copypaste from above.\n",
    "test = CsvXt('http://archive.ics.uci.edu/ml/machine-learning-databases/adult/adult.test')\n",
    "test.add_col('age', 'float') \n",
    "test.add_col('workclass', 'text') \n",
    "test.add_col('fnlwgt', 'float')\n",
    "test.add_col('education', 'text')\n",
    "test.add_col('education_num', 'float')\n",
    "test.add_col('marital_status', 'text')\n",
    "test.add_col('occupation', 'text')\n",
    "test.add_col('relationship', 'text')\n",
    "test.add_col('race', 'text')\n",
    "test.add_col('gender', 'text')\n",
    "test.add_col('capital_gain', 'float')\n",
    "test.add_col('capital_loss', 'float')\n",
    "test.add_col('hours_per_week', 'float')\n",
    "test.add_col('native_country', 'text')\n",
    "test.add_col('income', 'text')\n",
    "xtest = test.xtable(con)\n",
    "# # print (xtrain.select(samplerows=10).show())"
   ]
  },
  {
   "cell_type": "code",
   "execution_count": 6,
   "metadata": {},
   "outputs": [],
   "source": [
    "# Fix: raw data set test file has a trailing dot.\n",
    "xtest = xtest.select(select='''\n",
    "    age, workclass, fnlwgt, education, education_num, \n",
    "    marital_status, occupation, relationship, race, gender, \n",
    "    capital_gain, capital_loss, hours_per_week, native_country,\n",
    "    case when income = '>50K.' then '>50K'\n",
    "         when income = '<=50K.' then '<=50K'\n",
    "    end as income\n",
    "''')"
   ]
  },
  {
   "cell_type": "code",
   "execution_count": 9,
   "metadata": {},
   "outputs": [],
   "source": [
    "xtest.ctas('widedeep_test')"
   ]
  },
  {
   "cell_type": "code",
   "execution_count": 2,
   "metadata": {},
   "outputs": [
    {
     "name": "stdout",
     "output_type": "stream",
     "text": [
      "+------------+---------+\n",
      "| ?column?   |   count |\n",
      "|------------+---------|\n",
      "| num_train  |   32561 |\n",
      "| num_test   |   16281 |\n",
      "+------------+---------+\n"
     ]
    }
   ],
   "source": [
    "\n",
    "print (dg.xtable.fromQuery(con, \"\"\"select 'num_train', count(*) from widedeep_train \n",
    "                                   union all\n",
    "                                   select 'num_test', count(*) from widedeep_test\n",
    "                                   \"\"\").show())\n",
    "# print (dg.xtable.fromTable(con, \"widedeep_train\").select(samplerows=10).show())\n",
    "# print (dg.xtable.fromTable(con, \"widedeep_test\").select(samplerows=10).show())"
   ]
  },
  {
   "cell_type": "code",
   "execution_count": 8,
   "metadata": {},
   "outputs": [
    {
     "name": "stdout",
     "output_type": "stream",
     "text": [
      "+-------+-------------+----------+--------------+-----------------+--------------------+-------------------+----------------+--------+----------+----------------+----------------+------------------+------------------+----------+\n",
      "|   age | workclass   |   fnlwgt | education    |   education_num | marital_status     | occupation        | relationship   | race   | gender   |   capital_gain |   capital_loss |   hours_per_week | native_country   | income   |\n",
      "|-------+-------------+----------+--------------+-----------------+--------------------+-------------------+----------------+--------+----------+----------------+----------------+------------------+------------------+----------|\n",
      "|    44 | Local-gov   |   282069 | Assoc-voc    |              11 | Married-civ-spouse | Farming-fishing   | Husband        | White  | Male     |              0 |              0 |               40 | United-States    | <=50K    |\n",
      "|    36 | Private     |   124111 | HS-grad      |               9 | Divorced           | Adm-clerical      | Unmarried      | White  | Female   |              0 |              0 |               35 | United-States    | <=50K    |\n",
      "|    17 | Private     |    98572 | 11th         |               7 | Never-married      | Sales             | Not-in-family  | White  | Female   |              0 |              0 |               20 | United-States    | <=50K    |\n",
      "|    18 | Private     |   310175 | 12th         |               8 | Never-married      | Other-service     | Own-child      | White  | Female   |              0 |              0 |               12 | United-States    | <=50K    |\n",
      "|    52 | Private     |   279129 | Masters      |              14 | Married-civ-spouse | Exec-managerial   | Husband        | White  | Male     |              0 |              0 |               60 | United-States    | >50K     |\n",
      "|    35 | Private     |   123809 | Bachelors    |              13 | Married-civ-spouse | Prof-specialty    | Wife           | White  | Female   |          15024 |              0 |               35 | United-States    | >50K     |\n",
      "|    35 | Private     |   211154 | HS-grad      |               9 | Married-civ-spouse | Sales             | Husband        | White  | Male     |              0 |              0 |               45 | United-States    | <=50K    |\n",
      "|    35 | Private     |   111635 | HS-grad      |               9 | Married-civ-spouse | Other-service     | Husband        | White  | Male     |              0 |              0 |               40 | United-States    | <=50K    |\n",
      "|    40 | Private     |   409902 | HS-grad      |               9 | Never-married      | Machine-op-inspct | Own-child      | Black  | Female   |              0 |              0 |               40 | United-States    | <=50K    |\n",
      "|    27 | Private     |   257124 | Some-college |              10 | Never-married      | Other-service     | Own-child      | White  | Male     |              0 |              0 |               25 | United-States    | <=50K    |\n",
      "+-------+-------------+----------+--------------+-----------------+--------------------+-------------------+----------------+--------+----------+----------------+----------------+------------------+------------------+----------+\n"
     ]
    }
   ],
   "source": [
    "print(xtest.select(samplerows=10).show())"
   ]
  },
  {
   "cell_type": "code",
   "execution_count": null,
   "metadata": {
    "scrolled": false
   },
   "outputs": [],
   "source": [
    "localtab = dg.xtable.fromTable(con, 'iris')\n",
    "print(localtab.show(tablefmt='fancy_grid'))"
   ]
  },
  {
   "cell_type": "code",
   "execution_count": null,
   "metadata": {},
   "outputs": [],
   "source": [
    " "
   ]
  }
 ],
 "metadata": {
  "kernelspec": {
   "display_name": "Python 3",
   "language": "python",
   "name": "python3"
  },
  "language_info": {
   "codemirror_mode": {
    "name": "ipython",
    "version": 3
   },
   "file_extension": ".py",
   "mimetype": "text/x-python",
   "name": "python",
   "nbconvert_exporter": "python",
   "pygments_lexer": "ipython3",
   "version": "3.5.2"
  }
 },
 "nbformat": 4,
 "nbformat_minor": 2
}
