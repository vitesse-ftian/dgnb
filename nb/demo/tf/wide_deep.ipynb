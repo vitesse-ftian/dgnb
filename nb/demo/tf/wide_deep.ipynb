{
 "cells": [
  {
   "cell_type": "markdown",
   "metadata": {},
   "source": [
    "# Tensorflow Wide and Deep Tutorial\n",
    "This notebook demos how to run tensorflow [wide](https://www.tensorflow.org/tutorials/wide)\n",
    "and [wide and deep](https://www.tensorflow.org/tutorials/wide_and_deep) tutorial "
   ]
  },
  {
   "cell_type": "code",
   "execution_count": null,
   "metadata": {},
   "outputs": [],
   "source": [
    "# As usural, we open a database connection.   \n",
    "import dg.conn\n",
    "import dg.xtable\n",
    "\n",
    "con = dg.conn.Conn(user=\"ftian\")\n",
    "print (con.ver)"
   ]
  },
  {
   "cell_type": "code",
   "execution_count": null,
   "metadata": {},
   "outputs": [],
   "source": [
    "# Step 1: load data  Only need to run once.\n",
    "from dg.dsutil.csv import CsvXt"
   ]
  },
  {
   "cell_type": "code",
   "execution_count": null,
   "metadata": {},
   "outputs": [],
   "source": [
    "# Load data.  For all continous feature, we use float.   Categorical, text.\n",
    "train = CsvXt('http://archive.ics.uci.edu/ml/machine-learning-databases/adult/adult.data')\n",
    "train.add_col('age', 'float') \n",
    "train.add_col('workclass', 'text') \n",
    "train.add_col('fnlwgt', 'float')\n",
    "train.add_col('education', 'text')\n",
    "train.add_col('education_num', 'float')\n",
    "train.add_col('marital_status', 'text')\n",
    "train.add_col('occupation', 'text')\n",
    "train.add_col('relationship', 'text')\n",
    "train.add_col('race', 'text')\n",
    "train.add_col('gender', 'text')\n",
    "train.add_col('capital_gain', 'float')\n",
    "train.add_col('capital_loss', 'float')\n",
    "train.add_col('hours_per_week', 'float')\n",
    "train.add_col('native_country', 'text')\n",
    "train.add_col('income', 'text')\n",
    "xtrain = train.xtable(con)\n",
    "# print (xtrain.select(samplerows=10).show())"
   ]
  },
  {
   "cell_type": "code",
   "execution_count": null,
   "metadata": {},
   "outputs": [],
   "source": [
    "# You only need to run ctas once.\n",
    "xtrain.ctas(\"widedeep_train\")"
   ]
  },
  {
   "cell_type": "code",
   "execution_count": null,
   "metadata": {},
   "outputs": [],
   "source": [
    "# Load data.  For all continous feature, we use float.   Categorical, text.\n",
    "# copypaste from above.\n",
    "test = CsvXt('http://archive.ics.uci.edu/ml/machine-learning-databases/adult/adult.test')\n",
    "test.add_col('age', 'float') \n",
    "test.add_col('workclass', 'text') \n",
    "test.add_col('fnlwgt', 'float')\n",
    "test.add_col('education', 'text')\n",
    "test.add_col('education_num', 'float')\n",
    "test.add_col('marital_status', 'text')\n",
    "test.add_col('occupation', 'text')\n",
    "test.add_col('relationship', 'text')\n",
    "test.add_col('race', 'text')\n",
    "test.add_col('gender', 'text')\n",
    "test.add_col('capital_gain', 'float')\n",
    "test.add_col('capital_loss', 'float')\n",
    "test.add_col('hours_per_week', 'float')\n",
    "test.add_col('native_country', 'text')\n",
    "test.add_col('income', 'text')\n",
    "xtest = test.xtable(con)\n",
    "# # print (xtrain.select(samplerows=10).show())"
   ]
  },
  {
   "cell_type": "code",
   "execution_count": null,
   "metadata": {},
   "outputs": [],
   "source": [
    "# Only need to run ctas once.\n",
    "xtest.ctas(\"widedeep_test\")"
   ]
  },
  {
   "cell_type": "code",
   "execution_count": null,
   "metadata": {},
   "outputs": [],
   "source": [
    "\n",
    "print (dg.xtable.fromQuery(con, \"\"\"select 'num_train', count(*) from widedeep_train \n",
    "                                   union all\n",
    "                                   select 'num_test', count(*) from widedeep_test\n",
    "                                   \"\"\").show())\n",
    "# print (dg.xtable.fromTable(con, \"widedeep_train\").select(samplerows=10).show())\n",
    "# print (dg.xtable.fromTable(con, \"widedeep_test\").select(samplerows=10).show())"
   ]
  },
  {
   "cell_type": "code",
   "execution_count": null,
   "metadata": {},
   "outputs": [],
   "source": [
    "# Ever execution of the xtable cause internet traffic.\n",
    "# CTAS.\n",
    "csv.ctas(con, \"iris\", distributed_by='iris_class')"
   ]
  },
  {
   "cell_type": "code",
   "execution_count": null,
   "metadata": {
    "scrolled": false
   },
   "outputs": [],
   "source": [
    "localtab = dg.xtable.fromTable(con, 'iris')\n",
    "print(localtab.show(tablefmt='fancy_grid'))"
   ]
  },
  {
   "cell_type": "code",
   "execution_count": null,
   "metadata": {},
   "outputs": [],
   "source": [
    " "
   ]
  }
 ],
 "metadata": {
  "kernelspec": {
   "display_name": "Python 3",
   "language": "python",
   "name": "python3"
  },
  "language_info": {
   "codemirror_mode": {
    "name": "ipython",
    "version": 3
   },
   "file_extension": ".py",
   "mimetype": "text/x-python",
   "name": "python",
   "nbconvert_exporter": "python",
   "pygments_lexer": "ipython3",
   "version": "3.5.2"
  }
 },
 "nbformat": 4,
 "nbformat_minor": 2
}
