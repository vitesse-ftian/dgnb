{
 "cells": [
  {
   "cell_type": "markdown",
   "metadata": {},
   "source": [
    "# Example: Produce *run* for Stocks"
   ]
  },
  {
   "cell_type": "code",
   "execution_count": 30,
   "metadata": {},
   "outputs": [
    {
     "name": "stdout",
     "output_type": "stream",
     "text": [
      "The sql extension is already loaded. To reload it, use:\n",
      "  %reload_ext sql\n"
     ]
    },
    {
     "data": {
      "text/plain": [
       "'Connected: ftian@ftian'"
      ]
     },
     "execution_count": 30,
     "metadata": {},
     "output_type": "execute_result"
    }
   ],
   "source": [
    "%load_ext sql\n",
    "%sql postgresql://ftian@localhost/ftian"
   ]
  },
  {
   "cell_type": "markdown",
   "metadata": {},
   "source": [
    "First we generate some data.   The following CTAS will populate a\n",
    "table, with 4 Stocks (S1, S2, S3, S4) with 200 days of price.  \n",
    "Price are generated, assume all of them start at $100.  Each day\n",
    "a stock may randomly go up (80 percent chance) or down (20 percent) "
   ]
  },
  {
   "cell_type": "code",
   "execution_count": 31,
   "metadata": {},
   "outputs": [],
   "source": [
    "gensql = \"\"\"\n",
    "DROP TABLE IF EXISTS stock;\n",
    "CREATE TABLE stock AS select symbol, day, price FROM (\n",
    "select dg_utils.transducer_column_text(1) as symbol,\n",
    "         dg_utils.transducer_column_int4(2) as day,\n",
    "         dg_utils.transducer_column_float8(3) as price, \n",
    "         dg_utils.transducer($PHI$PhiExec go\n",
    "         \n",
    "// BEGIN INPUT TYPES\n",
    "// i int32 \n",
    "// END INPUT TYPES\n",
    "//\n",
    "// BEGIN OUTPUT TYPES\n",
    "// symbol string\n",
    "// day int32\n",
    "// price float64\n",
    "// END OUTPUT TYPES\n",
    "//\n",
    "\n",
    "package main\n",
    "\n",
    "import (\n",
    "        \"fmt\"\n",
    "        \"math/rand\"\n",
    ")\n",
    "\n",
    "func main() {\n",
    "        for rec := NextInput(); rec != nil; rec = NextInput() {\n",
    "                i, _ := rec.Get_i()\n",
    "                symbol := fmt.Sprintf(\"S%d\", i)\n",
    "                p := 100.0\n",
    "                for n:=0; n<200; n++ {\n",
    "                        var outrec OutRecord\n",
    "                        outrec.Set_symbol(symbol)\n",
    "                        outrec.Set_day(int32(n))\n",
    "                        delta := rand.Float64() - 0.2\n",
    "                        p += delta\n",
    "                        outrec.Set_price(p)\n",
    "                        WriteOutput(&outrec)\n",
    "                }\n",
    "        }\n",
    "        WriteOutput(nil)\n",
    "}\n",
    "$PHI$), t.*\n",
    "from ( select i::int from generate_series(1, 4) i ) t\n",
    ") foo\n",
    "\"\"\""
   ]
  },
  {
   "cell_type": "code",
   "execution_count": 38,
   "metadata": {},
   "outputs": [
    {
     "name": "stdout",
     "output_type": "stream",
     "text": [
      "Done.\n",
      "800 rows affected.\n"
     ]
    },
    {
     "data": {
      "text/plain": [
       "[]"
      ]
     },
     "execution_count": 38,
     "metadata": {},
     "output_type": "execute_result"
    }
   ],
   "source": [
    "%sql $gensql "
   ]
  },
  {
   "cell_type": "code",
   "execution_count": 35,
   "metadata": {},
   "outputs": [
    {
     "name": "stdout",
     "output_type": "stream",
     "text": [
      "16 rows affected.\n",
      "+--------+-----+------------------+\n",
      "| symbol | day |      price       |\n",
      "+--------+-----+------------------+\n",
      "|   S2   | 196 | 163.499978446567 |\n",
      "|   S2   | 197 | 163.638955834962 |\n",
      "|   S2   | 198 | 163.911447887214 |\n",
      "|   S2   | 199 | 164.697442247222 |\n",
      "|   S4   | 196 | 157.693863767325 |\n",
      "|   S4   | 197 | 158.059793053449 |\n",
      "|   S4   | 198 | 157.93169432978  |\n",
      "|   S4   | 199 | 158.021571454425 |\n",
      "|   S1   | 196 | 154.113343484876 |\n",
      "|   S1   | 197 | 154.912502975096 |\n",
      "|   S1   | 198 | 155.124043338317 |\n",
      "|   S1   | 199 | 155.035717975082 |\n",
      "|   S3   | 196 | 149.880174052084 |\n",
      "|   S3   | 197 | 150.477918984064 |\n",
      "|   S3   | 198 | 150.823305593446 |\n",
      "|   S3   | 199 | 151.028042443998 |\n",
      "+--------+-----+------------------+\n"
     ]
    }
   ],
   "source": [
    "rows = %sql select * from stock where day > 195\n",
    "print(rows)"
   ]
  },
  {
   "cell_type": "markdown",
   "metadata": {},
   "source": [
    "Process stock data to generate runs."
   ]
  },
  {
   "cell_type": "code",
   "execution_count": 36,
   "metadata": {},
   "outputs": [],
   "source": [
    "runsql = \"\"\"\n",
    "WITH stockrun AS (\n",
    "select dg_utils.transducer_column_text(1) as symbol,\n",
    "       dg_utils.transducer_column_int4(2) as d0,\n",
    "       dg_utils.transducer_column_float8(3) as p0,\n",
    "       dg_utils.transducer_column_int4(4) as d1,\n",
    "       dg_utils.transducer_column_float8(5) as p1,\n",
    "       dg_utils.transducer($PHI$PhiExec go\n",
    "// \n",
    "// BEGIN INPUT TYPES\n",
    "// symbol string\n",
    "// day int32\n",
    "// price float64\n",
    "// END INPUT TYPES\n",
    "//\n",
    "// BEGIN OUTPUT TYPES\n",
    "// symbol string\n",
    "// start int32\n",
    "// startprice float64\n",
    "// end int32\n",
    "// endprice float64\n",
    "// END OUTPUT TYPES\n",
    "//\n",
    "\n",
    "package main\n",
    "\n",
    "func main() {\n",
    "        var outrec *OutRecord\n",
    "        for rec := NextInput(); rec != nil; rec = NextInput() {\n",
    "                symbol, _ := rec.Get_symbol()\n",
    "                day, _ := rec.Get_day()\n",
    "                price, _ := rec.Get_price()\n",
    "\n",
    "                if day == 0 {\n",
    "                        if outrec != nil {\n",
    "                                WriteOutput(outrec)\n",
    "                        }\n",
    "                        outrec = new(OutRecord)\n",
    "                        outrec.Set_symbol(symbol)\n",
    "                        outrec.Set_start(day)\n",
    "                        outrec.Set_startprice(price)\n",
    "                        outrec.Set_end(day)\n",
    "                        outrec.Set_endprice(price)\n",
    "                } else {\n",
    "                        // Check if it is a run, either up or down.\n",
    "                        isuprun := price >= outrec.GetValue_endprice() && outrec.GetValue_endprice() >= outrec.GetValue_startprice()\n",
    "                        isdownrun := price <= outrec.GetValue_endprice() && outrec.GetValue_endprice() <= outrec.GetValue_startprice()\n",
    "                        if isuprun || isdownrun {\n",
    "                                outrec.Set_end(day)\n",
    "                                outrec.Set_endprice(price)\n",
    "                        } else {\n",
    "                                oldrec := outrec\n",
    "                                outrec = new(OutRecord)\n",
    "                                outrec.Set_symbol(symbol)\n",
    "                                outrec.Set_start(oldrec.GetValue_end())\n",
    "                                outrec.Set_startprice(oldrec.GetValue_endprice())\n",
    "                                outrec.Set_end(day)\n",
    "                                outrec.Set_endprice(price)\n",
    "                                WriteOutput(oldrec) \n",
    "                        }\n",
    "                }\n",
    "        }\n",
    "\n",
    "        if outrec != nil {\n",
    "                WriteOutput(outrec)\n",
    "        }\n",
    "        WriteOutput(nil)\n",
    "}\n",
    "$PHI$), t.isym, t.iday, t.iprice\n",
    "from (\n",
    "    select row_number() over (partition by symbol order by day), \n",
    "    symbol as isym, day as iday, price as iprice from stock\n",
    ") t \n",
    ")\n",
    "\n",
    "select symbol, max(d1 - d0) from stockrun where p1 < p0 group by symbol\n",
    "\"\"\""
   ]
  },
  {
   "cell_type": "code",
   "execution_count": 37,
   "metadata": {},
   "outputs": [
    {
     "name": "stdout",
     "output_type": "stream",
     "text": [
      "4 rows affected.\n",
      "+--------+-----+\n",
      "| symbol | max |\n",
      "+--------+-----+\n",
      "|   S1   |  3  |\n",
      "|   S3   |  4  |\n",
      "|   S4   |  3  |\n",
      "|   S2   |  2  |\n",
      "+--------+-----+\n"
     ]
    }
   ],
   "source": [
    "rows = %sql $runsql\n",
    "print(rows)"
   ]
  },
  {
   "cell_type": "code",
   "execution_count": null,
   "metadata": {},
   "outputs": [],
   "source": []
  }
 ],
 "metadata": {
  "kernelspec": {
   "display_name": "Python 3",
   "language": "python",
   "name": "python3"
  },
  "language_info": {
   "codemirror_mode": {
    "name": "ipython",
    "version": 3
   },
   "file_extension": ".py",
   "mimetype": "text/x-python",
   "name": "python",
   "nbconvert_exporter": "python",
   "pygments_lexer": "ipython3",
   "version": "3.5.2"
  }
 },
 "nbformat": 4,
 "nbformat_minor": 2
}
