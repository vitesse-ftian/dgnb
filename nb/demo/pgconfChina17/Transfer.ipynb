{
 "cells": [
  {
   "cell_type": "markdown",
   "metadata": {},
   "source": [
    "# DBLINK and dg transfer\n",
    "\n",
    "A short example of reading data from a different database.  Here we used another\n",
    "db (tpch1f) in the cluster.   It can be any database, postgres, mysql, oracle, \n",
    "or non database data source like elastic search, kafka."
   ]
  },
  {
   "cell_type": "code",
   "execution_count": 12,
   "metadata": {},
   "outputs": [
    {
     "name": "stdout",
     "output_type": "stream",
     "text": [
      "The sql extension is already loaded. To reload it, use:\n",
      "  %reload_ext sql\n"
     ]
    },
    {
     "data": {
      "text/plain": [
       "'Connected: ftian@ftian'"
      ]
     },
     "execution_count": 12,
     "metadata": {},
     "output_type": "execute_result"
    }
   ],
   "source": [
    "# First we connect to database.\n",
    "%load_ext sql\n",
    "%sql postgresql://ftian@localhost/ftian"
   ]
  },
  {
   "cell_type": "code",
   "execution_count": 8,
   "metadata": {},
   "outputs": [],
   "source": [
    "partsupp = \"\"\"\n",
    "WITH FOO AS ( \n",
    "select \n",
    "--\n",
    "-- Output columns \n",
    "--\n",
    "dg_utils.transducer_column_int4(1) as pk, \n",
    "dg_utils.transducer_column_int4(2) as sk, \n",
    "dg_utils.transducer_column_int4(3) as avail,\n",
    "dg_utils.transducer_column_float4(4) as cost,\n",
    "dg_utils.transducer_column_text(5) as cmt,\n",
    "dg_utils.transducer($PHI$PhiExec go\n",
    "// BEGIN INPUT TYPES\n",
    "// i int32 \n",
    "// END INPUT TYPES\n",
    "//\n",
    "// BEGIN OUTPUT TYPES\n",
    "// pk int32\n",
    "// sk int32\n",
    "// avail int32\n",
    "// cost float32\n",
    "// cmt string\n",
    "// END OUTPUT TYPES\n",
    "//\n",
    "package main\n",
    "\n",
    "import (\n",
    "        \"os\"\n",
    "        \"github.com/vitesse-ftian/dggo/vitessedata/xtable\"\n",
    ")\n",
    "func main() {\n",
    "        // We use lib/pq, which will panic if the following two ENV variables are\n",
    "        // set.   Phi is forked from postgres, which sets them.\n",
    "        os.Unsetenv(\"PGSYSCONFDIR\")\n",
    "        os.Unsetenv(\"PGLOCALEDIR\")\n",
    "\n",
    "        // No op loop\n",
    "        for rec := NextInput(); rec != nil; rec = NextInput() {\n",
    "        }\n",
    "        \n",
    "        dg := xtable.Deepgreen {\n",
    "                Host: \"localhost\",\n",
    "                Port: \"5432\",\n",
    "                Db: \"tpch1\",\n",
    "        }\n",
    "\n",
    "        err := dg.Connect()\n",
    "        if err != nil {\n",
    "                Log(\"Deepgreen connect failed, err %%v!\", err) \n",
    "                panic(\"Cannot open connection\")\n",
    "        }\n",
    "        defer dg.Disconnect()\n",
    "        \n",
    "        ps, err := xtable.MakeXTable(&dg, \"partsupp\")\n",
    "        if err != nil {\n",
    "                Log(\"Deepgreen partsupp table  err %%v!\", err) \n",
    "                panic(\"Cannot open xtable partsupp\")\n",
    "        }\n",
    "        rs, err := ps.Execute()\n",
    "        if err != nil {\n",
    "                Log(\"Deepgreen partsupp Execute err %%v!\", err) \n",
    "                panic(\"Cannot run xtable\")\n",
    "        }\n",
    "        defer rs.Close()\n",
    "\n",
    "        for rs.Next() {\n",
    "                var pk, sk, avail int32\n",
    "                var cost float32\n",
    "                var cmt string\n",
    "                rs.Scan(&pk, &sk, &avail, &cost, &cmt)\n",
    "\n",
    "                var outrec OutRecord\n",
    "                outrec.Set_pk(pk)\n",
    "                outrec.Set_sk(sk)\n",
    "                outrec.Set_avail(avail)\n",
    "                outrec.Set_cost(cost)\n",
    "                outrec.Set_cmt(cmt)\n",
    "                WriteOutput(&outrec)\n",
    "        }\n",
    "        WriteOutput(nil)\n",
    "}\n",
    "$PHI$), \n",
    "t.*\n",
    "from ( select 1::int ) t\n",
    ")\n",
    "select count(*), count(distinct pk), count(distinct sk), sum(avail), avg(cost)\n",
    "from FOO\n",
    "\n",
    "\"\"\""
   ]
  },
  {
   "cell_type": "code",
   "execution_count": 13,
   "metadata": {},
   "outputs": [
    {
     "name": "stdout",
     "output_type": "stream",
     "text": [
      "1 rows affected.\n",
      "+--------+---------+---------+------------+------------------+\n",
      "| count  | count_1 | count_2 |    sum     |       avg        |\n",
      "+--------+---------+---------+------------+------------------+\n",
      "| 800000 |  200000 |  10000  | 4002581547 | 500.525798170137 |\n",
      "+--------+---------+---------+------------+------------------+\n"
     ]
    }
   ],
   "source": [
    "rows = %sql $partsupp\n",
    "print(rows)"
   ]
  },
  {
   "cell_type": "markdown",
   "metadata": {},
   "source": [
    "**dg transfer** used transducer to transfer database, schema, table etc between two Deepgreen databases.   Basically it does \n",
    "```\n",
    "for all tables need to be transfered\n",
    "    run select * from t on src database, and pipe the result to xdrive\n",
    "    run insert into t select * from xdrive\n",
    "    \n",
    "```\n",
    "We make sure data are transfered parallelly fully utilizing all hosts.  \n"
   ]
  },
  {
   "cell_type": "markdown",
   "metadata": {},
   "source": [
    "The result 1TB TPCH, on 4 machines connected with 2 10GigE card, our transfer is network bound.\n",
    "Compared to gptransfer (fast mode)\n",
    "![Transfer 1TB](./img/transfer.png)\n",
    "\n",
    "We pumped more than 6 billion rows (lineitem table) throw transducer/xdrive in 10 minutes.  That is 10 million rows per second. \n"
   ]
  },
  {
   "cell_type": "markdown",
   "metadata": {},
   "source": []
  },
  {
   "cell_type": "code",
   "execution_count": null,
   "metadata": {},
   "outputs": [],
   "source": []
  },
  {
   "cell_type": "code",
   "execution_count": null,
   "metadata": {},
   "outputs": [],
   "source": []
  }
 ],
 "metadata": {
  "kernelspec": {
   "display_name": "Python 3",
   "language": "python",
   "name": "python3"
  },
  "language_info": {
   "codemirror_mode": {
    "name": "ipython",
    "version": 3
   },
   "file_extension": ".py",
   "mimetype": "text/x-python",
   "name": "python",
   "nbconvert_exporter": "python",
   "pygments_lexer": "ipython3",
   "version": "3.5.2"
  }
 },
 "nbformat": 4,
 "nbformat_minor": 2
}
