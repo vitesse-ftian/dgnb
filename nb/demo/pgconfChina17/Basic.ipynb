{
 "cells": [
  {
   "cell_type": "markdown",
   "metadata": {},
   "source": [
    "# Basic Transducer, python and go."
   ]
  },
  {
   "cell_type": "code",
   "execution_count": null,
   "metadata": {},
   "outputs": [],
   "source": [
    "# First we connect to database.\n",
    "%load_ext sql\n",
    "%sql postgresql://ftian@localhost/ftian"
   ]
  },
  {
   "cell_type": "markdown",
   "metadata": {},
   "source": [
    "The following is a very twisted way of writing\n",
    "```\n",
    "select * from \n",
    "( select i::int32 as i32, i::float32 as f32, 'Append to ' || i as t\n",
    "  from generate_series(1, 20) i\n",
    ") t\n",
    "```"
   ]
  },
  {
   "cell_type": "code",
   "execution_count": null,
   "metadata": {},
   "outputs": [],
   "source": [
    "# Python version.\n",
    "trpy = \"\"\"select \n",
    "dg_utils.transducer_column_int4(1) as i32,\n",
    "dg_utils.transducer_column_float4(2) as f32,\n",
    "dg_utils.transducer_column_text(3) as t,\n",
    "dg_utils.transducer($PHI$PhiExec python2\n",
    "# Below is a valid python prorgram.\n",
    "import vitessedata.phi\n",
    "vitessedata.phi.DeclareTypes('''\n",
    "// BEGIN INPUT TYPES\n",
    "// a int32\n",
    "// b float32\n",
    "// c string\n",
    "// END INPUT TYPES\n",
    "//\n",
    "// BEGIN OUTPUT TYPES\n",
    "// x int32\n",
    "// y float32\n",
    "// z string\n",
    "// END OUTPUT TYPES\n",
    "''')\n",
    "\n",
    "def doit():\n",
    "    while True:\n",
    "        rec = vitessedata.phi.NextInput()   # Get next input\n",
    "        if not rec:\n",
    "            break\n",
    "            \n",
    "        if rec[0] % 3 == 1:\n",
    "            outrec = [None, None, None]\n",
    "            outrec[0] = rec[0]\n",
    "            outrec[1] = rec[1] \n",
    "            outrec[2] = 'Append to ' + rec[2]\n",
    "            \n",
    "            vitessedata.phi.WriteOutput(outrec)\n",
    "            \n",
    "    # write a None to signal end\n",
    "    vitessedata.phi.WriteOutput(None)\n",
    "\n",
    "\n",
    "if __name__ == '__main__':\n",
    "    doit()\n",
    "    \n",
    "$PHI$), t.*\n",
    "from (select i::int, i::float4, i::text from generate_series(1, 20) i) t\n",
    "    \n",
    "\"\"\""
   ]
  },
  {
   "cell_type": "code",
   "execution_count": null,
   "metadata": {},
   "outputs": [],
   "source": [
    "rows = %sql $trpy\n",
    "print(rows)"
   ]
  },
  {
   "cell_type": "code",
   "execution_count": null,
   "metadata": {},
   "outputs": [],
   "source": [
    "# go version\n",
    "trgo = \"\"\"select\n",
    "dg_utils.transducer_column_int4(1) as i32,\n",
    "dg_utils.transducer_column_float4(2) as f32,\n",
    "dg_utils.transducer_column_text(3) as t,\n",
    "dg_utils.transducer($PHI$PhiExec go\n",
    "// Below is a valid go prorgram.\n",
    "// BEGIN INPUT TYPES\n",
    "// a int32\n",
    "// b float32\n",
    "// c string\n",
    "// END INPUT TYPES\n",
    "//\n",
    "// BEGIN OUTPUT TYPES\n",
    "// x int32\n",
    "// y float32\n",
    "// z string\n",
    "// END OUTPUT TYPES\n",
    "\n",
    "package main\n",
    "func main() {\n",
    "    for rec := NextInput(); rec != nil; rec = NextInput() {\n",
    "        a, _ := rec.Get_a()\n",
    "        b, _ := rec.Get_b()\n",
    "        c, _ := rec.Get_c()\n",
    "        \n",
    "        if a % 3 == 1 {\n",
    "            var outrec OutRecord\n",
    "            outrec.Set_x(a)\n",
    "            outrec.Set_y(b)\n",
    "            outrec.Set_z(\"Append to \" + c)\n",
    "            WriteOutput(&outrec)\n",
    "        }\n",
    "    }\n",
    "    WriteOutput(nil)\n",
    "}\n",
    "\n",
    "$PHI$), t.* \n",
    "from (select i::int, i::float4, i::text from generate_series(1, 20) i) t\n",
    "\"\"\""
   ]
  },
  {
   "cell_type": "code",
   "execution_count": null,
   "metadata": {},
   "outputs": [],
   "source": [
    "rows = %sql $trgo\n",
    "print(rows)"
   ]
  },
  {
   "cell_type": "code",
   "execution_count": null,
   "metadata": {},
   "outputs": [],
   "source": []
  }
 ],
 "metadata": {
  "kernelspec": {
   "display_name": "Python 3",
   "language": "python",
   "name": "python3"
  },
  "language_info": {
   "codemirror_mode": {
    "name": "ipython",
    "version": 3
   },
   "file_extension": ".py",
   "mimetype": "text/x-python",
   "name": "python",
   "nbconvert_exporter": "python",
   "pygments_lexer": "ipython3",
   "version": "3.5.2"
  }
 },
 "nbformat": 4,
 "nbformat_minor": 2
}
