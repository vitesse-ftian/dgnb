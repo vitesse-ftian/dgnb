{
 "cells": [
  {
   "cell_type": "code",
   "execution_count": 5,
   "metadata": {},
   "outputs": [
    {
     "name": "stdout",
     "output_type": "stream",
     "text": [
      "20170929:15:46:03:023751 gpstate:ftian-desktop:ftian-[INFO]:-Starting gpstate with args: \n",
      "20170929:15:46:03:023751 gpstate:ftian-desktop:ftian-[INFO]:-local Greenplum Version: 'postgres (Greenplum Database) 4.3.99.00 build Deepgreen DB'\n",
      "20170929:15:46:03:023751 gpstate:ftian-desktop:ftian-[INFO]:-master Greenplum Version: 'PostgreSQL 8.2.15 (Greenplum Database 4.3.99.00 build Deepgreen DB) on x86_64-unknown-linux-gnu, compiled by GCC gcc (Ubuntu 5.4.0-6ubuntu1~16.04.4) 5.4.0 20160609 compiled on Sep 26 2017 18:54:50 (with assert checking)'\n",
      "20170929:15:46:03:023751 gpstate:ftian-desktop:ftian-[INFO]:-Obtaining Segment details from master...\n",
      "20170929:15:46:04:023751 gpstate:ftian-desktop:ftian-[INFO]:-Gathering data from segments...\n",
      ". \n",
      "20170929:15:46:05:023751 gpstate:ftian-desktop:ftian-[INFO]:-Greenplum instance status summary\n",
      "20170929:15:46:05:023751 gpstate:ftian-desktop:ftian-[INFO]:-----------------------------------------------------\n",
      "20170929:15:46:05:023751 gpstate:ftian-desktop:ftian-[INFO]:-   Master instance                                = Active\n",
      "20170929:15:46:05:023751 gpstate:ftian-desktop:ftian-[INFO]:-   Master standby                                 = No master standby configured\n",
      "20170929:15:46:05:023751 gpstate:ftian-desktop:ftian-[INFO]:-   Total segment instance count from metadata     = 2\n",
      "20170929:15:46:05:023751 gpstate:ftian-desktop:ftian-[INFO]:-----------------------------------------------------\n",
      "20170929:15:46:05:023751 gpstate:ftian-desktop:ftian-[INFO]:-   Primary Segment Status\n",
      "20170929:15:46:05:023751 gpstate:ftian-desktop:ftian-[INFO]:-----------------------------------------------------\n",
      "20170929:15:46:05:023751 gpstate:ftian-desktop:ftian-[INFO]:-   Total primary segments                         = 2\n",
      "20170929:15:46:05:023751 gpstate:ftian-desktop:ftian-[INFO]:-   Total primary segment valid (at master)        = 2\n",
      "20170929:15:46:05:023751 gpstate:ftian-desktop:ftian-[INFO]:-   Total primary segment failures (at master)     = 0\n",
      "20170929:15:46:05:023751 gpstate:ftian-desktop:ftian-[INFO]:-   Total number of postmaster.pid files missing   = 0\n",
      "20170929:15:46:05:023751 gpstate:ftian-desktop:ftian-[INFO]:-   Total number of postmaster.pid files found     = 2\n",
      "20170929:15:46:05:023751 gpstate:ftian-desktop:ftian-[INFO]:-   Total number of postmaster.pid PIDs missing    = 0\n",
      "20170929:15:46:05:023751 gpstate:ftian-desktop:ftian-[INFO]:-   Total number of postmaster.pid PIDs found      = 2\n",
      "20170929:15:46:05:023751 gpstate:ftian-desktop:ftian-[INFO]:-   Total number of /tmp lock files missing        = 0\n",
      "20170929:15:46:05:023751 gpstate:ftian-desktop:ftian-[INFO]:-   Total number of /tmp lock files found          = 2\n",
      "20170929:15:46:05:023751 gpstate:ftian-desktop:ftian-[INFO]:-   Total number postmaster processes missing      = 0\n",
      "20170929:15:46:05:023751 gpstate:ftian-desktop:ftian-[INFO]:-   Total number postmaster processes found        = 2\n",
      "20170929:15:46:05:023751 gpstate:ftian-desktop:ftian-[INFO]:-----------------------------------------------------\n",
      "20170929:15:46:05:023751 gpstate:ftian-desktop:ftian-[INFO]:-   Mirror Segment Status\n",
      "20170929:15:46:05:023751 gpstate:ftian-desktop:ftian-[INFO]:-----------------------------------------------------\n",
      "20170929:15:46:05:023751 gpstate:ftian-desktop:ftian-[INFO]:-   Mirrors not configured on this array\n",
      "20170929:15:46:05:023751 gpstate:ftian-desktop:ftian-[INFO]:-----------------------------------------------------\n"
     ]
    }
   ],
   "source": [
    "!gpstate"
   ]
  },
  {
   "cell_type": "code",
   "execution_count": 6,
   "metadata": {},
   "outputs": [
    {
     "name": "stdout",
     "output_type": "stream",
     "text": [
      "env: MASTER_DATA_DIRECTORY=/home/ftian/p/deepgreen/run/data/dg-1/\n"
     ]
    }
   ],
   "source": [
    "%env MASTER_DATA_DIRECTORY=/home/ftian/p/deepgreen/run/data/dg-1/"
   ]
  },
  {
   "cell_type": "code",
   "execution_count": null,
   "metadata": {},
   "outputs": [],
   "source": []
  }
 ],
 "metadata": {
  "kernelspec": {
   "display_name": "Python 3",
   "language": "python",
   "name": "python3"
  },
  "language_info": {
   "codemirror_mode": {
    "name": "ipython",
    "version": 3
   },
   "file_extension": ".py",
   "mimetype": "text/x-python",
   "name": "python",
   "nbconvert_exporter": "python",
   "pygments_lexer": "ipython3",
   "version": "3.5.2"
  }
 },
 "nbformat": 4,
 "nbformat_minor": 2
}
