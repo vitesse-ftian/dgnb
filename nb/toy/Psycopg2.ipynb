{
 "cells": [
  {
   "cell_type": "markdown",
   "metadata": {},
   "source": [
    "# Toy example for python3 psycopg2 driver.\n",
    "\n",
    "Try something fancy.   Code.\n",
    "```\n",
    "select * from t;\n",
    "```\n",
    "\n",
    "Fonts, *abc*, **abc**, \n",
    "\n",
    "List,\n",
    "* foo\n",
    "* bar\n",
    "\n",
    "Numeric list\n",
    "1. foo\n",
    "2. bar\n",
    "2. zoo, number does not matter, auto adjusted.\n",
    "\n",
    "LaTex?\n",
    "$e^{i\\pi} + 1 = 0$  Wow, works!\n",
    "\n",
    "```python\n",
    "print \"Hello world!\"\n",
    "```\n",
    "\n",
    "Table **MUST HAVE A BLANK LINE**\n",
    "\n",
    "| This | is  |\n",
    "|-------|-----|\n",
    "| a     |table|\n",
    "\n",
    "\n",
    "\n",
    "\n",
    "\n",
    "\n"
   ]
  },
  {
   "cell_type": "code",
   "execution_count": 1,
   "metadata": {},
   "outputs": [
    {
     "name": "stdout",
     "output_type": "stream",
     "text": [
      "[(0, 2), (0, 23073)]\n"
     ]
    }
   ],
   "source": [
    "import psycopg2\n",
    "\n",
    "conn = psycopg2.connect(\"host='localhost' dbname='ftian'\")\n",
    "curr = conn.cursor()\n",
    "curr.execute(\"select * from dblp limit 2\")\n",
    "rows = curr.fetchall()\n",
    "print(rows)"
   ]
  },
  {
   "cell_type": "code",
   "execution_count": null,
   "metadata": {},
   "outputs": [],
   "source": []
  }
 ],
 "metadata": {
  "kernel_info": {
   "name": "python3"
  },
  "kernelspec": {
   "display_name": "Python 3",
   "language": "python",
   "name": "python3"
  },
  "language_info": {
   "codemirror_mode": {
    "name": "ipython",
    "version": 3
   },
   "file_extension": ".py",
   "mimetype": "text/x-python",
   "name": "python",
   "nbconvert_exporter": "python",
   "pygments_lexer": "ipython3",
   "version": "3.5.2"
  },
  "nteract": {
   "version": "0.2.0"
  }
 },
 "nbformat": 4,
 "nbformat_minor": 2
}
