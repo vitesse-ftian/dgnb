{
 "cells": [
  {
   "cell_type": "markdown",
   "metadata": {},
   "source": [
    "# A Simple CSV Loader"
   ]
  },
  {
   "cell_type": "code",
   "execution_count": 1,
   "metadata": {},
   "outputs": [
    {
     "name": "stdout",
     "output_type": "stream",
     "text": [
      "4\n"
     ]
    }
   ],
   "source": [
    "%matplotlib inline\n",
    "\n",
    "import dg.conn\n",
    "con = dg.conn.Conn(\"host=localhost dbname=tpch1f\")\n",
    "print (con.ver)"
   ]
  },
  {
   "cell_type": "code",
   "execution_count": 2,
   "metadata": {},
   "outputs": [],
   "source": [
    "from dg.dsutil.csv import CsvXt"
   ]
  },
  {
   "cell_type": "code",
   "execution_count": 3,
   "metadata": {},
   "outputs": [],
   "source": [
    "# Iris data set is probably the single most used dataset.\n",
    "# From the sepal/petal lengh/width, can you guess the iris class?\n",
    "csv = CsvXt('http://archive.ics.uci.edu/ml/machine-learning-databases/iris/iris.data') \n",
    "csv.add_col('sepal_length', 'float')\n",
    "csv.add_col('sepal_width', 'float') \n",
    "csv.add_col('petal_length', 'float') \n",
    "csv.add_col('petal_width', 'float') \n",
    "csv.add_col('iris_class', 'text')\n",
    "xt = csv.xtable(con)"
   ]
  },
  {
   "cell_type": "code",
   "execution_count": 4,
   "metadata": {},
   "outputs": [
    {
     "name": "stdout",
     "output_type": "stream",
     "text": [
      "+-----------------+-------+-------+-------+-------+\n",
      "| iris_class      |   asl |   asd |   apl |   apd |\n",
      "|-----------------+-------+-------+-------+-------|\n",
      "| Iris-virginica  | 6.588 | 2.974 | 5.552 | 2.026 |\n",
      "| Iris-setosa     | 5.006 | 3.418 | 1.464 | 0.244 |\n",
      "| Iris-versicolor | 5.936 | 2.77  | 4.26  | 1.326 |\n",
      "+-----------------+-------+-------+-------+-------+\n"
     ]
    }
   ],
   "source": [
    "# I don't know how, but I can check some basics.  At least let's see if the\n",
    "# avg is significant.   Amateur's first take.   Hmm, Let me guess -- \n",
    "# petal size will be enough to tell setosa apart, but virginica\n",
    "# can versicolor will be harder \n",
    "import dg.xtable\n",
    "avgt = dg.xtable.fromQuery(con, \"\"\"\n",
    "    select iris_class, avg(sepal_length) as asl, avg(sepal_width) as asd,\n",
    "                       avg(petal_length) as apl, avg(petal_width) as apd\n",
    "    from #0# \n",
    "    group by iris_class\n",
    "\"\"\", inputs=[xt])\n",
    "print(avgt.show())"
   ]
  },
  {
   "cell_type": "code",
   "execution_count": null,
   "metadata": {},
   "outputs": [],
   "source": []
  }
 ],
 "metadata": {
  "kernelspec": {
   "display_name": "Python 3",
   "language": "python",
   "name": "python3"
  },
  "language_info": {
   "codemirror_mode": {
    "name": "ipython",
    "version": 3
   },
   "file_extension": ".py",
   "mimetype": "text/x-python",
   "name": "python",
   "nbconvert_exporter": "python",
   "pygments_lexer": "ipython3",
   "version": "3.5.2"
  }
 },
 "nbformat": 4,
 "nbformat_minor": 2
}
