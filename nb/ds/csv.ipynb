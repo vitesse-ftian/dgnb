{
 "cells": [
  {
   "cell_type": "markdown",
   "metadata": {},
   "source": [
    "# A Simple CSV Loader"
   ]
  },
  {
   "cell_type": "code",
   "execution_count": null,
   "metadata": {},
   "outputs": [],
   "source": [
    "%matplotlib inline\n",
    "\n",
    "import dg.conn\n",
    "con = dg.conn.Conn(user=\"ftian\", port=5555)\n",
    "print (con.ver)"
   ]
  },
  {
   "cell_type": "code",
   "execution_count": null,
   "metadata": {},
   "outputs": [],
   "source": [
    "from dg.dsutil.csv import CsvXt"
   ]
  },
  {
   "cell_type": "code",
   "execution_count": null,
   "metadata": {},
   "outputs": [],
   "source": [
    "# Iris data set is probably the single most used dataset.\n",
    "# From the sepal/petal lengh/width, can you guess the iris class?\n",
    "csv = CsvXt('http://archive.ics.uci.edu/ml/machine-learning-databases/iris/iris.data') \n",
    "csv.add_col('sepal_length', 'float')\n",
    "csv.add_col('sepal_width', 'float') \n",
    "csv.add_col('petal_length', 'float') \n",
    "csv.add_col('petal_width', 'float') \n",
    "csv.add_col('iris_class', 'text')\n",
    "xt = csv.xtable(con)"
   ]
  },
  {
   "cell_type": "code",
   "execution_count": null,
   "metadata": {},
   "outputs": [],
   "source": [
    "# I don't know how, but I can check some basics.  At least let's see if the\n",
    "# avg is significant.   Amateur's first take.   Hmm, Let me guess -- \n",
    "# petal size will be enough to tell setosa apart, but virginica\n",
    "# and versicolor will be harder \n",
    "import dg.xtable\n",
    "avgt = dg.xtable.fromQuery(con, \"\"\"\n",
    "    select iris_class, avg(sepal_length) as asl, avg(sepal_width) as asd,\n",
    "                       avg(petal_length) as apl, avg(petal_width) as apd\n",
    "    from #0# \n",
    "    group by iris_class\n",
    "\"\"\", inputs=[xt])\n",
    "print(avgt.show())"
   ]
  },
  {
   "cell_type": "code",
   "execution_count": null,
   "metadata": {},
   "outputs": [],
   "source": [
    "# Ever execution of the xtable cause internet traffic.\n",
    "# CTAS.\n",
    "csv.ctas(con, \"iris\", distributed_by='iris_class')"
   ]
  },
  {
   "cell_type": "code",
   "execution_count": null,
   "metadata": {
    "scrolled": false
   },
   "outputs": [],
   "source": [
    "localtab = dg.xtable.fromTable(con, 'iris')\n",
    "print(localtab.show(tablefmt='fancy_grid'))"
   ]
  },
  {
   "cell_type": "code",
   "execution_count": null,
   "metadata": {},
   "outputs": [],
   "source": [
    " "
   ]
  }
 ],
 "metadata": {
  "kernelspec": {
   "display_name": "Python 3",
   "language": "python",
   "name": "python3"
  },
  "language_info": {
   "codemirror_mode": {
    "name": "ipython",
    "version": 3
   },
   "file_extension": ".py",
   "mimetype": "text/x-python",
   "name": "python",
   "nbconvert_exporter": "python",
   "pygments_lexer": "ipython3",
   "version": "3.5.2"
  }
 },
 "nbformat": 4,
 "nbformat_minor": 2
}
