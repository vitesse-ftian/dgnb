{
 "cells": [
  {
   "cell_type": "code",
   "execution_count": 3,
   "metadata": {},
   "outputs": [
    {
     "name": "stdout",
     "output_type": "stream",
     "text": [
      "4\n"
     ]
    }
   ],
   "source": [
    "import dg.conn\n",
    "from dg.admin import activity\n",
    "con = dg.conn.Conn(\"host=localhost dbname=postgres\")\n",
    "print (con.ver)"
   ]
  },
  {
   "cell_type": "code",
   "execution_count": 5,
   "metadata": {},
   "outputs": [
    {
     "name": "stdout",
     "output_type": "stream",
     "text": [
      "+---------+-----------+-----------+-----------+------------+-----------+-----------------+-----------+---------------+-----------------+---------------+---------------+--------------------+--------------+------------------+\n",
      "| datid   | datname   | procpid   | sess_id   | usesysid   | usename   | current_query   | waiting   | query_start   | backend_start   | client_addr   | client_port   | application_name   | xact_start   | waiting_reason   |\n",
      "|---------+-----------+-----------+-----------+------------+-----------+-----------------+-----------+---------------+-----------------+---------------+---------------+--------------------+--------------+------------------|\n",
      "+---------+-----------+-----------+-----------+------------+-----------+-----------------+-----------+---------------+-----------------+---------------+---------------+--------------------+--------------+------------------+\n"
     ]
    }
   ],
   "source": [
    "# Long running queries, default nsec 60 secs.   \n",
    "xt = activity.xt_longrunning_query(con, nsec=10)\n",
    "print(xt.show())"
   ]
  },
  {
   "cell_type": "code",
   "execution_count": 6,
   "metadata": {},
   "outputs": [
    {
     "name": "stdout",
     "output_type": "stream",
     "text": [
      "+---------+-----------+-----------+-----------+------------+-----------+-----------------+-----------+---------------+-----------------+---------------+---------------+--------------------+--------------+------------------+\n",
      "| datid   | datname   | procpid   | sess_id   | usesysid   | usename   | current_query   | waiting   | query_start   | backend_start   | client_addr   | client_port   | application_name   | xact_start   | waiting_reason   |\n",
      "|---------+-----------+-----------+-----------+------------+-----------+-----------------+-----------+---------------+-----------------+---------------+---------------+--------------------+--------------+------------------|\n",
      "+---------+-----------+-----------+-----------+------------+-----------+-----------------+-----------+---------------+-----------------+---------------+---------------+--------------------+--------------+------------------+\n"
     ]
    }
   ],
   "source": [
    "# Waiting queries\n",
    "xt = activity.xt_waiting(con)\n",
    "print(xt.show())"
   ]
  },
  {
   "cell_type": "code",
   "execution_count": null,
   "metadata": {},
   "outputs": [],
   "source": []
  }
 ],
 "metadata": {
  "kernelspec": {
   "display_name": "Python 3",
   "language": "python",
   "name": "python3"
  },
  "language_info": {
   "codemirror_mode": {
    "name": "ipython",
    "version": 3
   },
   "file_extension": ".py",
   "mimetype": "text/x-python",
   "name": "python",
   "nbconvert_exporter": "python",
   "pygments_lexer": "ipython3",
   "version": "3.5.2"
  }
 },
 "nbformat": 4,
 "nbformat_minor": 2
}
