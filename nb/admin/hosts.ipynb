{
 "cells": [
  {
   "cell_type": "markdown",
   "metadata": {},
   "source": [
    "# Deepgreen hosts/os info"
   ]
  },
  {
   "cell_type": "code",
   "execution_count": null,
   "metadata": {},
   "outputs": [],
   "source": [
    "%matplotlib notebook\n",
    "\n",
    "import dg.conn\n",
    "from dg.admin import hosts\n",
    "con = dg.conn.Conn(user=\"ftian\", port=5555, database=\"tpch1f\")\n",
    "print (con.ver)"
   ]
  },
  {
   "cell_type": "code",
   "execution_count": null,
   "metadata": {},
   "outputs": [],
   "source": [
    "# default nsec = 5\n",
    "xt = hosts.xt_vmstat_hosts(con)\n",
    "# rows = xt.execute()"
   ]
  },
  {
   "cell_type": "code",
   "execution_count": 3,
   "metadata": {},
   "outputs": [],
   "source": [
    "# Plot a line chart.   Most interesting vmstat stats might be\n",
    "# vmstat_us: user space CPU usage\n",
    "# vmstat_bi/bo: bytes read/written in a second\n",
    "# vmstat_si/so: bytes swapped in/out in a second.  If si/so is significant, this is wrong -- fix it.\n",
    "# vmstat_in/cs: interrupt/context switch in a second.\n",
    "# vmstat_us/sy: user space/os CPU usage.\n",
    "\n",
    "import dg.dsutil.plot\n",
    "lc = dg.dsutil.plot.LineChart()\n",
    "\n",
    "# Refresh chart every 5 seconds (decided by the xt nsec).  \n",
    "for i in range(10):\n",
    "    rows = xt.execute()\n",
    "    addr = xt.coldata('addr', rows)\n",
    "    data = xt.coldata('vmstat_cs', rows)\n",
    "    for (a, b) in zip(addr, data):\n",
    "        # print(a, b)\n",
    "        lc.acc.add(a, b)\n",
    "    lc.draw()"
   ]
  },
  {
   "cell_type": "code",
   "execution_count": null,
   "metadata": {},
   "outputs": [],
   "source": []
  }
 ],
 "metadata": {
  "kernelspec": {
   "display_name": "Python 3",
   "language": "python",
   "name": "python3"
  },
  "language_info": {
   "codemirror_mode": {
    "name": "ipython",
    "version": 3
   },
   "file_extension": ".py",
   "mimetype": "text/x-python",
   "name": "python",
   "nbconvert_exporter": "python",
   "pygments_lexer": "ipython3",
   "version": "3.5.2"
  }
 },
 "nbformat": 4,
 "nbformat_minor": 2
}
