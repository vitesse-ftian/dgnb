{
 "cells": [
  {
   "cell_type": "code",
   "execution_count": null,
   "metadata": {},
   "outputs": [],
   "source": [
    "%matplotlib inline\n",
    "\n",
    "import dg.conn\n",
    "from dg.admin import hosts\n",
    "con = dg.conn.Conn(\"host=localhost dbname=tpch1f\")\n",
    "print (con.ver)"
   ]
  },
  {
   "cell_type": "code",
   "execution_count": null,
   "metadata": {},
   "outputs": [],
   "source": [
    "#default nsec = 5\n",
    "xt = hosts.xt_vmstat_hosts(con)\n",
    "rows = xt.execute()"
   ]
  },
  {
   "cell_type": "code",
   "execution_count": null,
   "metadata": {},
   "outputs": [],
   "source": [
    "import dg.dsutil.plot\n",
    "lc = dg.dsutil.plot.LineChart()\n",
    "addr = xt.coldata('addr', rows)\n",
    "data = xt.coldata('vmstat_cs', rows)\n",
    "for (a, b) in zip(addr, data):\n",
    "    # print(a, b)\n",
    "    lc.acc.add(a, b)\n",
    "lc.refresh()"
   ]
  },
  {
   "cell_type": "code",
   "execution_count": null,
   "metadata": {},
   "outputs": [],
   "source": []
  }
 ],
 "metadata": {
  "kernelspec": {
   "display_name": "Python 3",
   "language": "python",
   "name": "python3"
  },
  "language_info": {
   "codemirror_mode": {
    "name": "ipython",
    "version": 3
   },
   "file_extension": ".py",
   "mimetype": "text/x-python",
   "name": "python",
   "nbconvert_exporter": "python",
   "pygments_lexer": "ipython3",
   "version": "3.5.2"
  }
 },
 "nbformat": 4,
 "nbformat_minor": 2
}
