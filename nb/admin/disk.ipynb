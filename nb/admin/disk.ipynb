{
 "cells": [
  {
   "cell_type": "markdown",
   "metadata": {},
   "source": [
    "# View/Analyze Storage and Skew"
   ]
  },
  {
   "cell_type": "code",
   "execution_count": 1,
   "metadata": {},
   "outputs": [
    {
     "name": "stdout",
     "output_type": "stream",
     "text": [
      "4\n"
     ]
    }
   ],
   "source": [
    "import dg.conn\n",
    "from dg.admin import disk\n",
    "con = dg.conn.Conn(\"host=localhost dbname=tpch1f\")\n",
    "print (con.ver)"
   ]
  },
  {
   "cell_type": "code",
   "execution_count": 7,
   "metadata": {},
   "outputs": [
    {
     "name": "stdout",
     "output_type": "stream",
     "text": [
      "+------------------+-----------+--------------------+----------+\n",
      "| tabname          |   totalsz |   skew_coefficient |   skewsz |\n",
      "|------------------+-----------+--------------------+----------|\n",
      "| public.nation    |     98304 |         18.3303    |     6006 |\n",
      "| public.region    |     65536 |         91.6515    |    20022 |\n",
      "| public.part      |  31064064 |          0.075035  |     7770 |\n",
      "| public.supplier  |   1769472 |          0.504083  |     2973 |\n",
      "| public.partsupp  | 145817600 |          0.075035  |    36471 |\n",
      "| public.customer  |  29458432 |          0.132408  |    13002 |\n",
      "| public.orders    | 210894848 |          0.0219973 |    15464 |\n",
      "| public.lineitem  | 850427904 |          0.081926  |   232241 |\n",
      "| public.tt        |         0 |          0         |        0 |\n",
      "| dg_utils.eachseg |     98304 |          0         |        0 |\n",
      "| xw.xt            |    229376 |          9.64365   |     7373 |\n",
      "+------------------+-----------+--------------------+----------+\n"
     ]
    }
   ],
   "source": [
    "xt = disk.xt_disk(con)\n",
    "print(xt.show())"
   ]
  },
  {
   "cell_type": "code",
   "execution_count": 3,
   "metadata": {},
   "outputs": [],
   "source": [
    "rows = xt.execute()"
   ]
  },
  {
   "cell_type": "code",
   "execution_count": 6,
   "metadata": {},
   "outputs": [
    {
     "data": {
      "image/png": "[encoded data removed]",
      "text/plain": [
       "<matplotlib.figure.Figure at 0x7f6674105ac8>"
      ]
     },
     "metadata": {},
     "output_type": "display_data"
    }
   ],
   "source": [
    "# Plot.  \n",
    "%matplotlib inline\n",
    "import matplotlib.pyplot as plt\n",
    "# Note the ; at the end, will silent text output of plt.   Magic!\n",
    "plt.pie(xt.coldata('totalsz', rows), labels=xt.coldata('tabname', rows));"
   ]
  },
  {
   "cell_type": "code",
   "execution_count": null,
   "metadata": {},
   "outputs": [],
   "source": []
  }
 ],
 "metadata": {
  "kernelspec": {
   "display_name": "Python 3",
   "language": "python",
   "name": "python3"
  },
  "language_info": {
   "codemirror_mode": {
    "name": "ipython",
    "version": 3
   },
   "file_extension": ".py",
   "mimetype": "text/x-python",
   "name": "python",
   "nbconvert_exporter": "python",
   "pygments_lexer": "ipython3",
   "version": "3.5.2"
  }
 },
 "nbformat": 4,
 "nbformat_minor": 2
}
